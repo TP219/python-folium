!apt install gdal-bin python-gdal python3-gdal 
!apt install python3-rtree 
!pip install geopandas
!pip install pandas folium
from google.colab import drive
from google.colab import files
import folium
import pandas as pd
import geopandas as gpd
from shapely.geometry import Point
drive.mount('/content/drive')

# Load the CSV file into a DataFrame
fire = pd.read_csv('/content/drive/MyDrive/MapData/NEWSTARTSLAST24.csv')

# Print the first 5 rows of the DataFrame to verify that it loaded correctly
print(fire.head())

#choose the correct zoom and where you want to base your zoom from
m = folium.Map(location=[45.744137, -100.950050], zoom_start=5)

# add markers to map by creating a for loop that that shows the fire cause
for index, row in fire.iterrows():
    folium.Marker(location=[row['Y'], row['X']],
                  popup=row['FireCause']).add_to(m)
